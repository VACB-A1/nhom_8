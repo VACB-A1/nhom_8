{
 "cells": [
  {
   "cell_type": "markdown",
   "id": "2d12b8d5",
   "metadata": {},
   "source": [
    "Cell 1 — Import & Đường dẫn"
   ]
  },
  {
   "cell_type": "code",
   "execution_count": 7,
   "id": "12d9cf6c",
   "metadata": {},
   "outputs": [],
   "source": [
    "import os, json, random, numpy as np\n",
    "import tensorflow as tf\n",
    "from tensorflow.keras import layers, regularizers\n",
    "from tensorflow.keras.applications.xception import Xception, preprocess_input"
   ]
  },
  {
   "cell_type": "code",
   "execution_count": 8,
   "id": "0c10c694",
   "metadata": {},
   "outputs": [
    {
     "name": "stdout",
     "output_type": "stream",
     "text": [
      "TF: 2.10.1\n"
     ]
    }
   ],
   "source": [
    "# ĐƯỜNG DẪN DỮ LIỆU CỦA BẠN (đã có train/val/test và 3 lớp con)\n",
    "DATA_DIR = r\"C:\\Users\\VACB\\OneDrive\\Desktop\\xception_v2\\chest_xray_v2\"\n",
    "TRAIN_DIR = os.path.join(DATA_DIR, \"train\")\n",
    "VAL_DIR   = os.path.join(DATA_DIR, \"val\")\n",
    "TEST_DIR  = os.path.join(DATA_DIR, \"test\")\n",
    "\n",
    "# Thư mục xuất artifacts (model, logs, ảnh Grad-CAM)\n",
    "ARTIFACTS = os.path.join(DATA_DIR, \"artifacts\"); os.makedirs(ARTIFACTS, exist_ok=True)\n",
    "CKPT_DIR  = os.path.join(DATA_DIR, \"checkpoints\"); os.makedirs(CKPT_DIR, exist_ok=True)\n",
    "CAM_DIR   = os.path.join(ARTIFACTS, \"gradcam\"); os.makedirs(CAM_DIR, exist_ok=True)\n",
    "\n",
    "# Cấu hình chung\n",
    "IMG_SIZE = (224, 224)  # có thể đổi 299,299 nếu muốn (chậm hơn)\n",
    "BATCH    = 32\n",
    "SEED     = 1337\n",
    "AUTOTUNE = tf.data.AUTOTUNE\n",
    "\n",
    "print(\"TF:\", tf.__version__)"
   ]
  },
  {
   "cell_type": "markdown",
   "id": "2470e0ba",
   "metadata": {},
   "source": [
    "# Cell 2: Datasets (RGB) + augment + preprocess. Tạo tf.data pipelines"
   ]
  },
  {
   "cell_type": "code",
   "execution_count": 9,
   "id": "dfd0ae4b",
   "metadata": {},
   "outputs": [
    {
     "name": "stdout",
     "output_type": "stream",
     "text": [
      "Found 5216 files belonging to 3 classes.\n",
      "Found 47 files belonging to 3 classes.\n",
      "Found 624 files belonging to 3 classes.\n",
      "Classes: ['NORMAL', 'PNEUMONIA_bacteria', 'PNEUMONIA_virus']\n",
      "WARNING:tensorflow:Using a while_loop for converting RngReadAndSkip cause there is no registered converter for this op.\n",
      "WARNING:tensorflow:Using a while_loop for converting Bitcast cause there is no registered converter for this op.\n",
      "WARNING:tensorflow:Using a while_loop for converting Bitcast cause there is no registered converter for this op.\n",
      "WARNING:tensorflow:Using a while_loop for converting StatelessRandomUniformV2 cause there is no registered converter for this op.\n",
      "WARNING:tensorflow:Using a while_loop for converting ImageProjectiveTransformV3 cause there is no registered converter for this op.\n",
      "WARNING:tensorflow:Using a while_loop for converting RngReadAndSkip cause there is no registered converter for this op.\n",
      "WARNING:tensorflow:Using a while_loop for converting Bitcast cause there is no registered converter for this op.\n",
      "WARNING:tensorflow:Using a while_loop for converting Bitcast cause there is no registered converter for this op.\n",
      "WARNING:tensorflow:Using a while_loop for converting StatelessRandomUniformV2 cause there is no registered converter for this op.\n",
      "WARNING:tensorflow:Using a while_loop for converting ImageProjectiveTransformV3 cause there is no registered converter for this op.\n",
      "WARNING:tensorflow:Using a while_loop for converting RngReadAndSkip cause there is no registered converter for this op.\n",
      "WARNING:tensorflow:Using a while_loop for converting Bitcast cause there is no registered converter for this op.\n",
      "WARNING:tensorflow:Using a while_loop for converting Bitcast cause there is no registered converter for this op.\n",
      "WARNING:tensorflow:Using a while_loop for converting StatelessRandomUniformV2 cause there is no registered converter for this op.\n",
      "WARNING:tensorflow:Using a while_loop for converting ImageProjectiveTransformV3 cause there is no registered converter for this op.\n",
      "WARNING:tensorflow:Using a while_loop for converting RngReadAndSkip cause there is no registered converter for this op.\n",
      "WARNING:tensorflow:Using a while_loop for converting Bitcast cause there is no registered converter for this op.\n",
      "WARNING:tensorflow:Using a while_loop for converting Bitcast cause there is no registered converter for this op.\n",
      "WARNING:tensorflow:Using a while_loop for converting StatelessRandomUniformV2 cause there is no registered converter for this op.\n",
      "WARNING:tensorflow:Using a while_loop for converting ImageProjectiveTransformV3 cause there is no registered converter for this op.\n"
     ]
    }
   ],
   "source": [
    "# Cell 2: Datasets (RGB) + augment + preprocess\n",
    "\n",
    "# Load từ thư mục: label dạng int (0..NUM_CLASSES-1)\n",
    "train_raw = tf.keras.utils.image_dataset_from_directory(\n",
    "    TRAIN_DIR, image_size=IMG_SIZE, batch_size=BATCH, color_mode=\"rgb\",\n",
    "    label_mode=\"int\", seed=SEED, shuffle=True\n",
    ")\n",
    "val_raw = tf.keras.utils.image_dataset_from_directory(\n",
    "    VAL_DIR, image_size=IMG_SIZE, batch_size=BATCH, color_mode=\"rgb\",\n",
    "    label_mode=\"int\", seed=SEED, shuffle=False\n",
    ")\n",
    "test_raw = tf.keras.utils.image_dataset_from_directory(\n",
    "    TEST_DIR, image_size=IMG_SIZE, batch_size=BATCH, color_mode=\"rgb\",\n",
    "    label_mode=\"int\", seed=SEED, shuffle=False\n",
    ")\n",
    "\n",
    "class_names = train_raw.class_names\n",
    "NUM_CLASSES = len(class_names)\n",
    "print(\"Classes:\", class_names)\n",
    "\n",
    "# Lưu class_names để dùng inference sau này\n",
    "with open(os.path.join(ARTIFACTS, \"class_names.json\"), \"w\", encoding=\"utf-8\") as f:\n",
    "    json.dump(class_names, f, ensure_ascii=False, indent=2)\n",
    "\n",
    "# Augment nhẹ để tổng quát hóa\n",
    "augment = tf.keras.Sequential([\n",
    "    layers.RandomFlip(\"horizontal\"),\n",
    "    layers.RandomRotation(0.05),\n",
    "    layers.RandomZoom(0.05),\n",
    "])\n",
    "\n",
    "# Preprocess cho Xception (scale theo imagenet)\n",
    "def apply_preprocess(x, y):\n",
    "    x = tf.cast(x, tf.float32)\n",
    "    x = preprocess_input(x)\n",
    "    return x, y\n",
    "\n",
    "train_ds = train_raw.map(lambda x, y: (augment(x, training=True), y), num_parallel_calls=AUTOTUNE)\n",
    "train_ds = train_ds.map(apply_preprocess, num_parallel_calls=AUTOTUNE).prefetch(AUTOTUNE)\n",
    "val_ds   = val_raw.map(apply_preprocess, num_parallel_calls=AUTOTUNE).prefetch(AUTOTUNE)\n",
    "test_ds  = test_raw.map(apply_preprocess, num_parallel_calls=AUTOTUNE).prefetch(AUTOTUNE)"
   ]
  },
  {
   "cell_type": "markdown",
   "id": "8779c2cf",
   "metadata": {},
   "source": [
    "Cell 3 — Xây model Xception (3 lớp)"
   ]
  },
  {
   "cell_type": "code",
   "execution_count": 10,
   "id": "cff11337",
   "metadata": {},
   "outputs": [
    {
     "name": "stdout",
     "output_type": "stream",
     "text": [
      "Model: \"model_1\"\n",
      "_________________________________________________________________\n",
      " Layer (type)                Output Shape              Param #   \n",
      "=================================================================\n",
      " input_4 (InputLayer)        [(None, 224, 224, 3)]     0         \n",
      "                                                                 \n",
      " xception (Functional)       (None, 7, 7, 2048)        20861480  \n",
      "                                                                 \n",
      " global_average_pooling2d_1   (None, 2048)             0         \n",
      " (GlobalAveragePooling2D)                                        \n",
      "                                                                 \n",
      " dropout_2 (Dropout)         (None, 2048)              0         \n",
      "                                                                 \n",
      " dense_2 (Dense)             (None, 256)               524544    \n",
      "                                                                 \n",
      " dropout_3 (Dropout)         (None, 256)               0         \n",
      "                                                                 \n",
      " dense_3 (Dense)             (None, 3)                 771       \n",
      "                                                                 \n",
      "=================================================================\n",
      "Total params: 21,386,795\n",
      "Trainable params: 525,315\n",
      "Non-trainable params: 20,861,480\n",
      "_________________________________________________________________\n"
     ]
    }
   ],
   "source": [
    "# Cell 3: Build model Xception (3-class)\n",
    "\n",
    "base = Xception(include_top=False, weights=\"imagenet\", input_shape=IMG_SIZE + (3,))\n",
    "base.trainable = False  # giai đoạn đầu: freeze backbone\n",
    "\n",
    "inputs = layers.Input(shape=IMG_SIZE + (3,))\n",
    "x = inputs\n",
    "x = base(x, training=False)\n",
    "x = layers.GlobalAveragePooling2D()(x)\n",
    "x = layers.Dropout(0.35)(x)\n",
    "x = layers.Dense(256, activation=\"relu\", kernel_regularizer=regularizers.l2(1e-5))(x)\n",
    "x = layers.Dropout(0.35)(x)\n",
    "outputs = layers.Dense(NUM_CLASSES, activation=\"softmax\")(x)\n",
    "\n",
    "model = tf.keras.Model(inputs, outputs)\n",
    "\n",
    "# Dùng SparseCategoricalCrossentropy (nhãn int); KHÔNG label_smoothing để tương thích version\n",
    "loss = tf.keras.losses.SparseCategoricalCrossentropy()\n",
    "model.compile(optimizer=tf.keras.optimizers.Adam(1e-3), loss=loss, metrics=[\"accuracy\"])\n",
    "model.summary()\n"
   ]
  },
  {
   "cell_type": "markdown",
   "id": "acf5930a",
   "metadata": {},
   "source": [
    "Callbacks + Train (phase 1)"
   ]
  },
  {
   "cell_type": "code",
   "execution_count": 11,
   "id": "bb3eac8c",
   "metadata": {},
   "outputs": [
    {
     "name": "stdout",
     "output_type": "stream",
     "text": [
      "Epoch 1/50\n",
      "163/163 [==============================] - ETA: 0s - loss: 0.6727 - accuracy: 0.7136\n",
      "Epoch 1: val_loss improved from inf to 0.54267, saving model to C:\\Users\\VACB\\OneDrive\\Desktop\\xception_v2\\chest_xray_v2\\checkpoints\\xception_pneu_best.h5\n",
      "163/163 [==============================] - 110s 665ms/step - loss: 0.6727 - accuracy: 0.7136 - val_loss: 0.5427 - val_accuracy: 0.7872 - lr: 0.0010\n",
      "Epoch 2/50\n",
      "163/163 [==============================] - ETA: 0s - loss: 0.5747 - accuracy: 0.7554\n",
      "Epoch 2: val_loss improved from 0.54267 to 0.45818, saving model to C:\\Users\\VACB\\OneDrive\\Desktop\\xception_v2\\chest_xray_v2\\checkpoints\\xception_pneu_best.h5\n",
      "163/163 [==============================] - 110s 668ms/step - loss: 0.5747 - accuracy: 0.7554 - val_loss: 0.4582 - val_accuracy: 0.8298 - lr: 0.0010\n",
      "Epoch 3/50\n",
      "163/163 [==============================] - ETA: 0s - loss: 0.5609 - accuracy: 0.7542\n",
      "Epoch 3: val_loss did not improve from 0.45818\n",
      "163/163 [==============================] - 114s 692ms/step - loss: 0.5609 - accuracy: 0.7542 - val_loss: 0.4875 - val_accuracy: 0.7872 - lr: 0.0010\n",
      "Epoch 4/50\n",
      "163/163 [==============================] - ETA: 0s - loss: 0.5517 - accuracy: 0.7661\n",
      "Epoch 4: val_loss did not improve from 0.45818\n",
      "163/163 [==============================] - 115s 698ms/step - loss: 0.5517 - accuracy: 0.7661 - val_loss: 0.5166 - val_accuracy: 0.8085 - lr: 0.0010\n",
      "Epoch 5/50\n",
      "163/163 [==============================] - ETA: 0s - loss: 0.5385 - accuracy: 0.7663\n",
      "Epoch 5: val_loss did not improve from 0.45818\n",
      "\n",
      "Epoch 5: ReduceLROnPlateau reducing learning rate to 0.0003000000142492354.\n",
      "163/163 [==============================] - 114s 697ms/step - loss: 0.5385 - accuracy: 0.7663 - val_loss: 0.5201 - val_accuracy: 0.7872 - lr: 0.0010\n",
      "Epoch 6/50\n",
      "163/163 [==============================] - ETA: 0s - loss: 0.5184 - accuracy: 0.7805\n",
      "Epoch 6: val_loss did not improve from 0.45818\n",
      "163/163 [==============================] - 114s 694ms/step - loss: 0.5184 - accuracy: 0.7805 - val_loss: 0.5021 - val_accuracy: 0.7872 - lr: 3.0000e-04\n",
      "Epoch 7/50\n",
      "163/163 [==============================] - ETA: 0s - loss: 0.5090 - accuracy: 0.7820\n",
      "Epoch 7: val_loss did not improve from 0.45818\n",
      "163/163 [==============================] - 114s 697ms/step - loss: 0.5090 - accuracy: 0.7820 - val_loss: 0.5033 - val_accuracy: 0.7872 - lr: 3.0000e-04\n",
      "Epoch 8/50\n",
      "163/163 [==============================] - ETA: 0s - loss: 0.5098 - accuracy: 0.7809\n",
      "Epoch 8: val_loss did not improve from 0.45818\n",
      "\n",
      "Epoch 8: ReduceLROnPlateau reducing learning rate to 9.000000427477062e-05.\n",
      "163/163 [==============================] - 114s 694ms/step - loss: 0.5098 - accuracy: 0.7809 - val_loss: 0.4876 - val_accuracy: 0.8085 - lr: 3.0000e-04\n"
     ]
    }
   ],
   "source": [
    "# Cell 4: Callbacks + Train phase 1 (freeze backbone)\n",
    "\n",
    "ckpt_path = os.path.join(CKPT_DIR, \"xception_pneu_best.h5\")\n",
    "cbs = [\n",
    "    tf.keras.callbacks.ModelCheckpoint(ckpt_path, monitor=\"val_loss\", save_best_only=True, verbose=1),\n",
    "    tf.keras.callbacks.EarlyStopping(monitor=\"val_loss\", patience=6, restore_best_weights=True),\n",
    "    tf.keras.callbacks.ReduceLROnPlateau(monitor=\"val_loss\", factor=0.3, patience=3, verbose=1),\n",
    "    tf.keras.callbacks.CSVLogger(os.path.join(ARTIFACTS, \"train_log.csv\"), append=False)\n",
    "]\n",
    "\n",
    "EPOCHS = 50\n",
    "hist = model.fit(train_ds, validation_data=val_ds, epochs=EPOCHS, callbacks=cbs)\n",
    "\n",
    "# Lưu model cuối phase 1\n",
    "model.save(os.path.join(ARTIFACTS, \"xception_pneu_last.h5\"))"
   ]
  },
  {
   "cell_type": "markdown",
   "id": "19d9106e",
   "metadata": {},
   "source": [
    "Fine-tune"
   ]
  },
  {
   "cell_type": "code",
   "execution_count": 12,
   "id": "5ccfc45e",
   "metadata": {},
   "outputs": [
    {
     "name": "stdout",
     "output_type": "stream",
     "text": [
      "Epoch 1/20\n",
      "163/163 [==============================] - ETA: 0s - loss: 0.5214 - accuracy: 0.7753\n",
      "Epoch 1: val_loss did not improve from 0.45818\n",
      "163/163 [==============================] - 194s 1s/step - loss: 0.5214 - accuracy: 0.7753 - val_loss: 0.4899 - val_accuracy: 0.8085 - lr: 1.0000e-04\n",
      "Epoch 2/20\n",
      "163/163 [==============================] - ETA: 0s - loss: 0.4516 - accuracy: 0.8102\n",
      "Epoch 2: val_loss did not improve from 0.45818\n",
      "163/163 [==============================] - 194s 1s/step - loss: 0.4516 - accuracy: 0.8102 - val_loss: 0.4660 - val_accuracy: 0.7872 - lr: 1.0000e-04\n",
      "Epoch 3/20\n",
      "163/163 [==============================] - ETA: 0s - loss: 0.4087 - accuracy: 0.8207\n",
      "Epoch 3: val_loss did not improve from 0.45818\n",
      "163/163 [==============================] - 193s 1s/step - loss: 0.4087 - accuracy: 0.8207 - val_loss: 0.5036 - val_accuracy: 0.7872 - lr: 1.0000e-04\n",
      "Epoch 4/20\n",
      "163/163 [==============================] - ETA: 0s - loss: 0.3908 - accuracy: 0.8280\n",
      "Epoch 4: val_loss improved from 0.45818 to 0.42482, saving model to C:\\Users\\VACB\\OneDrive\\Desktop\\xception_v2\\chest_xray_v2\\checkpoints\\xception_pneu_best.h5\n",
      "163/163 [==============================] - 194s 1s/step - loss: 0.3908 - accuracy: 0.8280 - val_loss: 0.4248 - val_accuracy: 0.7660 - lr: 1.0000e-04\n",
      "Epoch 5/20\n",
      "163/163 [==============================] - ETA: 0s - loss: 0.3531 - accuracy: 0.8526\n",
      "Epoch 5: val_loss improved from 0.42482 to 0.30480, saving model to C:\\Users\\VACB\\OneDrive\\Desktop\\xception_v2\\chest_xray_v2\\checkpoints\\xception_pneu_best.h5\n",
      "163/163 [==============================] - 194s 1s/step - loss: 0.3531 - accuracy: 0.8526 - val_loss: 0.3048 - val_accuracy: 0.8511 - lr: 1.0000e-04\n",
      "Epoch 6/20\n",
      "163/163 [==============================] - ETA: 0s - loss: 0.3372 - accuracy: 0.8558\n",
      "Epoch 6: val_loss did not improve from 0.30480\n",
      "163/163 [==============================] - 193s 1s/step - loss: 0.3372 - accuracy: 0.8558 - val_loss: 0.5164 - val_accuracy: 0.7234 - lr: 1.0000e-04\n",
      "Epoch 7/20\n",
      "163/163 [==============================] - ETA: 0s - loss: 0.3105 - accuracy: 0.8677\n",
      "Epoch 7: val_loss did not improve from 0.30480\n",
      "163/163 [==============================] - 194s 1s/step - loss: 0.3105 - accuracy: 0.8677 - val_loss: 0.5196 - val_accuracy: 0.7872 - lr: 1.0000e-04\n",
      "Epoch 8/20\n",
      "163/163 [==============================] - ETA: 0s - loss: 0.2852 - accuracy: 0.8821\n",
      "Epoch 8: val_loss did not improve from 0.30480\n",
      "\n",
      "Epoch 8: ReduceLROnPlateau reducing learning rate to 2.9999999242136255e-05.\n",
      "163/163 [==============================] - 195s 1s/step - loss: 0.2852 - accuracy: 0.8821 - val_loss: 0.6113 - val_accuracy: 0.7447 - lr: 1.0000e-04\n",
      "Epoch 9/20\n",
      "163/163 [==============================] - ETA: 0s - loss: 0.2182 - accuracy: 0.9112\n",
      "Epoch 9: val_loss did not improve from 0.30480\n",
      "163/163 [==============================] - 195s 1s/step - loss: 0.2182 - accuracy: 0.9112 - val_loss: 0.6001 - val_accuracy: 0.7447 - lr: 3.0000e-05\n",
      "Epoch 10/20\n",
      "163/163 [==============================] - ETA: 0s - loss: 0.1978 - accuracy: 0.9189\n",
      "Epoch 10: val_loss did not improve from 0.30480\n",
      "163/163 [==============================] - 195s 1s/step - loss: 0.1978 - accuracy: 0.9189 - val_loss: 0.6013 - val_accuracy: 0.7447 - lr: 3.0000e-05\n",
      "Epoch 11/20\n",
      "163/163 [==============================] - ETA: 0s - loss: 0.1798 - accuracy: 0.9321\n",
      "Epoch 11: val_loss did not improve from 0.30480\n",
      "\n",
      "Epoch 11: ReduceLROnPlateau reducing learning rate to 8.999999772640877e-06.\n",
      "163/163 [==============================] - 194s 1s/step - loss: 0.1798 - accuracy: 0.9321 - val_loss: 0.5215 - val_accuracy: 0.7872 - lr: 3.0000e-05\n"
     ]
    }
   ],
   "source": [
    "# Cell 5: Fine-tune một phần backbone (tùy chọn)\n",
    "\n",
    "base.trainable = True\n",
    "# Khóa bớt các lớp đầu, mở các lớp cuối (ví dụ ~40 lớp cuối)\n",
    "for layer in base.layers[:-40]:\n",
    "    layer.trainable = False\n",
    "\n",
    "model.compile(optimizer=tf.keras.optimizers.Adam(1e-4), loss=loss, metrics=[\"accuracy\"])\n",
    "hist_ft = model.fit(train_ds, validation_data=val_ds, epochs=20, callbacks=cbs)\n",
    "\n",
    "model.save(os.path.join(ARTIFACTS, \"xception_pneu_finetuned.h5\"))"
   ]
  },
  {
   "cell_type": "code",
   "execution_count": 13,
   "id": "93cbdc44",
   "metadata": {},
   "outputs": [
    {
     "name": "stdout",
     "output_type": "stream",
     "text": [
      "Test — Loss: 0.6198 | Acc: 73.72%\n",
      "                    precision    recall  f1-score   support\n",
      "\n",
      "            NORMAL       0.93      0.79      0.85       234\n",
      "PNEUMONIA_bacteria       0.63      0.97      0.76       242\n",
      "   PNEUMONIA_virus       0.77      0.28      0.41       148\n",
      "\n",
      "          accuracy                           0.74       624\n",
      "         macro avg       0.78      0.68      0.67       624\n",
      "      weighted avg       0.78      0.74      0.71       624\n",
      "\n",
      "Confusion matrix:\n",
      " [[184  38  12]\n",
      " [  7 235   0]\n",
      " [  6 101  41]]\n"
     ]
    }
   ],
   "source": [
    "# Cell 6: Evaluate test set + báo cáo\n",
    "from sklearn.metrics import confusion_matrix, classification_report\n",
    "\n",
    "test_loss, test_acc = model.evaluate(test_ds, verbose=0)\n",
    "print(f\"Test — Loss: {test_loss:.4f} | Acc: {test_acc*100:.2f}%\")\n",
    "\n",
    "y_true, y_pred = [], []\n",
    "for xb, yb in test_ds:\n",
    "    probs = model.predict(xb, verbose=0)\n",
    "    y_true.extend(yb.numpy().tolist())\n",
    "    y_pred.extend(np.argmax(probs, axis=1).tolist())\n",
    "\n",
    "print(classification_report(y_true, y_pred, target_names=class_names))\n",
    "print(\"Confusion matrix:\\n\", confusion_matrix(y_true, y_pred))"
   ]
  }
 ],
 "metadata": {
  "kernelspec": {
   "display_name": "Python 3",
   "language": "python",
   "name": "python3"
  },
  "language_info": {
   "codemirror_mode": {
    "name": "ipython",
    "version": 3
   },
   "file_extension": ".py",
   "mimetype": "text/x-python",
   "name": "python",
   "nbconvert_exporter": "python",
   "pygments_lexer": "ipython3",
   "version": "3.10.11"
  }
 },
 "nbformat": 4,
 "nbformat_minor": 5
}
